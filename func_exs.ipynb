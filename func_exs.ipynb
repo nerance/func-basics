{
 "cells": [
  {
   "cell_type": "code",
   "execution_count": 1,
   "metadata": {},
   "outputs": [
    {
     "data": {
      "text/plain": "3"
     },
     "execution_count": 1,
     "metadata": {},
     "output_type": "execute_result"
    }
   ],
   "source": [
    "def count_lowercase(string):\n",
    "    '''Обчислює кількість символів в нижньому регістрі'''\n",
    "    return sum(1 for c in string if c.islower())\n",
    "\n",
    "count_lowercase(\"Тест\")"
   ]
  },
  {
   "cell_type": "code",
   "execution_count": 2,
   "metadata": {},
   "outputs": [
    {
     "data": {
      "text/plain": "False"
     },
     "execution_count": 2,
     "metadata": {},
     "output_type": "execute_result"
    }
   ],
   "source": [
    "def listAnd(boolean_list):\n",
    "    '''Повертає True, якщо всі елементи списку True або список порожній'''\n",
    "    '''Якщо хоча б один елемент списку False - повертає False'''\n",
    "    return all(boolean_list)\n",
    "\n",
    "def listOr(boolean_list):\n",
    "    '''Повертає True, якщо хоча б один елемент списку True'''\n",
    "    '''Працює аналогічно до функції listAnd(boolean_list)'''\n",
    "    return any(boolean_list)\n",
    "\n",
    "listAnd([True, False, False])"
   ]
  },
  {
   "cell_type": "code",
   "execution_count": 3,
   "outputs": [
    {
     "data": {
      "text/plain": "True"
     },
     "execution_count": 3,
     "metadata": {},
     "output_type": "execute_result"
    }
   ],
   "source": [
    "listAnd([True, True, True])"
   ],
   "metadata": {
    "collapsed": false
   }
  },
  {
   "cell_type": "code",
   "execution_count": 4,
   "outputs": [
    {
     "data": {
      "text/plain": "True"
     },
     "execution_count": 4,
     "metadata": {},
     "output_type": "execute_result"
    }
   ],
   "source": [
    "listAnd([])"
   ],
   "metadata": {
    "collapsed": false
   }
  },
  {
   "cell_type": "code",
   "execution_count": 5,
   "outputs": [
    {
     "data": {
      "text/plain": "True"
     },
     "execution_count": 5,
     "metadata": {},
     "output_type": "execute_result"
    }
   ],
   "source": [
    "listOr([True, False, False])"
   ],
   "metadata": {
    "collapsed": false
   }
  },
  {
   "cell_type": "code",
   "execution_count": null,
   "outputs": [],
   "source": [
    "def multiplicity(num1,num2):\n",
    "    '''Добуток двох натуральних чисел з використанням'''\n",
    "    '''тільки дії додавання та рекурсії'''\n",
    "    if(num1 < num2):\n",
    "        return multiplicity(num2,num1)\n",
    "    elif(num2 != 0):\n",
    "         return(num1+multiplicity(num1,num2-1))\n",
    "    else:\n",
    "         return 0\n",
    "\n",
    "num1 = int(input(\"Введіть перше натуральне число: \"))\n",
    "num2 = int(input(\"Введіть друге натуральне число: \"))\n",
    "print(\"Добуток = \", multiplicity(num1,num2))"
   ],
   "metadata": {
    "collapsed": false
   }
  }
 ],
 "metadata": {
  "kernelspec": {
   "display_name": "Python 3",
   "language": "python",
   "name": "python3"
  },
  "language_info": {
   "codemirror_mode": {
    "name": "ipython",
    "version": 3
   },
   "file_extension": ".py",
   "mimetype": "text/x-python",
   "name": "python",
   "nbconvert_exporter": "python",
   "pygments_lexer": "ipython3",
   "version": "3.7.4"
  }
 },
 "nbformat": 4,
 "nbformat_minor": 2
}
